{
 "cells": [
  {
   "cell_type": "markdown",
   "metadata": {},
   "source": [
    "# Déflexion d'une plaque mince encastrée avec FEniCSx\n",
    "\n",
    "Ce notebook simule la déflexion d'une plaque carrée encastrée soumise à une charge uniforme, selon la théorie de Kirchhoff-Love."
   ]
  },
  {
   "cell_type": "code",
   "execution_count": null,
   "metadata": {},
   "outputs": [],
   "source": [
    "import numpy as np\n",
    "import ufl\n",
    "from mpi4py import MPI\n",
    "from dolfinx import mesh, fem\n",
    "from basix.ufl import element\n",
    "import pyvista\n",
    "pyvista.start_xvfb()"
   ]
  },
  {
   "cell_type": "code",
   "execution_count": null,
   "metadata": {},
   "outputs": [],
   "source": [
    "# Paramètres physiques\n",
    "L = 1.0\n",
    "n = 32\n",
    "E = 210e9\n",
    "nu = 0.3\n",
    "t = 0.01\n",
    "q0 = 1000\n",
    "D = E * t**3 / (12 * (1 - nu**2))"
   ]
  },
  {
   "cell_type": "code",
   "execution_count": null,
   "metadata": {},
   "outputs": [],
   "source": [
    "# Maillage triangulaire\n",
    "domain = mesh.create_unit_square(MPI.COMM_WORLD, n, n)\n",
    "V = fem.FunctionSpace(domain, element(\"Lagrange\", \"triangle\", 2))"
   ]
  },
  {
   "cell_type": "code",
   "execution_count": null,
   "metadata": {},
   "outputs": [],
   "source": [
    "# Formulation variationnelle\n",
    "u = ufl.TrialFunction(V)\n",
    "v = ufl.TestFunction(V)\n",
    "a = D * ufl.inner(ufl.grad(ufl.grad(u)), ufl.grad(ufl.grad(v))) * ufl.dx\n",
    "L_form = q0 * v * ufl.dx"
   ]
  },
  {
   "cell_type": "code",
   "execution_count": null,
   "metadata": {},
   "outputs": [],
   "source": [
    "# Conditions aux limites encastrées\n",
    "def clamped_boundary(x):\n",
    "    return np.isclose(x[0], 0) | np.isclose(x[0], 1) | np.isclose(x[1], 0) | np.isclose(x[1], 1)\n",
    "\n",
    "fdim = domain.topology.dim - 1\n",
    "facets = mesh.locate_entities_boundary(domain, fdim, clamped_boundary)\n",
    "dofs = fem.locate_dofs_topological(V, fdim, facets)\n",
    "bc = fem.dirichletbc(fem.Constant(domain, 0.0), dofs, V)"
   ]
  },
  {
   "cell_type": "code",
   "execution_count": null,
   "metadata": {},
   "outputs": [],
   "source": [
    "# Résolution\n",
    "problem = fem.petsc.LinearProblem(a, L_form, bcs=[bc])\n",
    "uh = problem.solve()"
   ]
  },
  {
   "cell_type": "code",
   "execution_count": null,
   "metadata": {},
   "outputs": [],
   "source": [
    "# Visualisation\n",
    "from dolfinx.plot import create_vtk_mesh\n",
    "grid = pyvista.UnstructuredGrid(*create_vtk_mesh(V))\n",
    "grid.point_data[\"w\"] = uh.x.array.real\n",
    "plotter = pyvista.Plotter()\n",
    "plotter.add_mesh(grid, show_edges=True, scalars=\"w\", cmap=\"viridis\")\n",
    "plotter.view_xy()\n",
    "plotter.show()"
   ]
  }
 ],
 "metadata": {
  "kernelspec": {
   "display_name": "Python 3",
   "language": "python",
   "name": "python3"
  },
  "language_info": {
   "name": "python",
   "version": "3.10"
  }
 },
 "nbformat": 4,
 "nbformat_minor": 5
}
